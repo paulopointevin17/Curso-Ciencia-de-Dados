{
 "cells": [
  {
   "cell_type": "code",
   "execution_count": 1,
   "id": "a5230aea",
   "metadata": {},
   "outputs": [],
   "source": [
    "class Investidor:\n",
    "    \n",
    "    def __init__(self, cpf, perfil, carteira_investimentos):\n",
    "        self.cpf = cpf\n",
    "        self.perfil = perfil\n",
    "        self.carteira_investimentos = carteira_investimentos\n",
    "        \n",
    "    #Identifica o perfil desse investidor em comparação com o perfil de outros investidores\n",
    "    def identificar_perfil(self, investidores_para_comparar, k):\n",
    "        import funcoes_paulo\n",
    "        \n",
    "        lista_distancia_investidor = []\n",
    "        \n",
    "        for investidor_para_comparar in investidores_para_comparar:\n",
    "            \n",
    "            distancia = funcoes_paulo.calcular_distancia_euclidiana(self.carteira_investimentos, investidor_para_comparar.carteira_investimentos)\n",
    "        \n",
    "            distancia_investidor = {\n",
    "                \"distancia\" : distancia,\n",
    "                \"investidor\": investidor_para_comparar\n",
    "            }\n",
    "        \n",
    "            lista_distancia_investidor.append(distancia_investidor)\n",
    "        \n",
    "        lista_distancia_investidor.sort(key=lambda elemento: elemento[\"distancia\"])\n",
    "    \n",
    "        perfis_mais_proximos = []\n",
    "    \n",
    "        for i in range(k):\n",
    "            investidor_para_comparar = lista_distancia_investidor[i][\"investidor\"]\n",
    "            perfis_mais_proximos.append(investidor_para_comparar.perfil)        \n",
    "        \n",
    "        perfil_mais_proximo = funcoes_paulo.identificar_moda(perfis_mais_proximos)\n",
    "        self.perfil = perfil_mais_proximo\n",
    "        \n",
    "    def imprimir_informacoes(self):\n",
    "        print(f'CPF: {self.cpf}, Perfil: {self.perfil}, Carteira de investimentos: {self.carteira_investimentos}')\n",
    "        "
   ]
  },
  {
   "cell_type": "code",
   "execution_count": 2,
   "id": "57359fd1",
   "metadata": {
    "collapsed": true
   },
   "outputs": [
    {
     "name": "stdout",
     "output_type": "stream",
     "text": [
      "CPF: 45926320819, Perfil: Conservador, Carteira de investimentos: (5800.0, 4000.0, 1200.0, 200.0)\n",
      "CPF: 52559670741, Perfil: Conservador, Carteira de investimentos: (5700.0, 4400.0, 1500.0, 400.0)\n",
      "CPF: 59016004832, Perfil: Conservador, Carteira de investimentos: (5400.0, 3900.0, 1300.0, 400.0)\n",
      "CPF: 66175672425, Perfil: Conservador, Carteira de investimentos: (5100.0, 3500.0, 1400.0, 300.0)\n",
      "CPF: 53330429526, Perfil: Conservador, Carteira de investimentos: (5700.0, 3800.0, 1700.0, 300.0)\n",
      "CPF: 43765563403, Perfil: Conservador, Carteira de investimentos: (5100.0, 3800.0, 1500.0, 300.0)\n",
      "CPF: 68020822591, Perfil: Conservador, Carteira de investimentos: (5400.0, 3400.0, 1700.0, 200.0)\n",
      "CPF: 53939481689, Perfil: Conservador, Carteira de investimentos: (5100.0, 3700.0, 1500.0, 400.0)\n",
      "CPF: 47014057561, Perfil: Conservador, Carteira de investimentos: (4600.0, 3600.0, 1000.0, 200.0)\n",
      "CPF: 57183542047, Perfil: Conservador, Carteira de investimentos: (5100.0, 3300.0, 1700.0, 500.0)\n",
      "CPF: 68518284363, Perfil: Moderado, Carteira de investimentos: (5000.0, 2000.0, 3500.0, 1000.0)\n",
      "CPF: 65806049885, Perfil: Moderado, Carteira de investimentos: (5900.0, 3000.0, 4200.0, 1500.0)\n",
      "CPF: 54128073086, Perfil: Moderado, Carteira de investimentos: (6000.0, 2200.0, 4000.0, 1000.0)\n",
      "CPF: 41306785494, Perfil: Moderado, Carteira de investimentos: (6100.0, 2900.0, 4700.0, 1400.0)\n",
      "CPF: 65234831039, Perfil: Moderado, Carteira de investimentos: (5600.0, 2900.0, 3600.0, 1300.0)\n",
      "CPF: 50964498067, Perfil: Moderado, Carteira de investimentos: (6700.0, 3100.0, 4400.0, 1400.0)\n",
      "CPF: 50810951429, Perfil: Moderado, Carteira de investimentos: (5600.0, 3000.0, 4500.0, 1500.0)\n",
      "CPF: 48765044397, Perfil: Moderado, Carteira de investimentos: (5800.0, 2700.0, 4100.0, 1000.0)\n",
      "CPF: 41960083761, Perfil: Moderado, Carteira de investimentos: (6200.0, 2200.0, 4500.0, 1500.0)\n",
      "CPF: 76657763082, Perfil: Moderado, Carteira de investimentos: (5600.0, 2500.0, 3900.0, 1100.0)\n",
      "CPF: 64726487742, Perfil: Agressivo, Carteira de investimentos: (6500.0, 3200.0, 5100.0, 2000.0)\n",
      "CPF: 75746566283, Perfil: Agressivo, Carteira de investimentos: (6400.0, 2700.0, 5300.0, 1900.0)\n",
      "CPF: 78576734793, Perfil: Agressivo, Carteira de investimentos: (6800.0, 3000.0, 5500.0, 2100.0)\n",
      "CPF: 56440141847, Perfil: Agressivo, Carteira de investimentos: (5700.0, 2500.0, 5000.0, 2000.0)\n",
      "CPF: 66827423000, Perfil: Agressivo, Carteira de investimentos: (5800.0, 2800.0, 5100.0, 2400.0)\n",
      "CPF: 45267873396, Perfil: Agressivo, Carteira de investimentos: (6400.0, 3200.0, 5300.0, 2300.0)\n",
      "CPF: 46387191493, Perfil: Agressivo, Carteira de investimentos: (6500.0, 3000.0, 5500.0, 1800.0)\n",
      "CPF: 54273611732, Perfil: Agressivo, Carteira de investimentos: (7700.0, 3800.0, 6700.0, 2200.0)\n",
      "CPF: 75135392881, Perfil: Agressivo, Carteira de investimentos: (7700.0, 2600.0, 6900.0, 2300.0)\n",
      "CPF: 64703873108, Perfil: Agressivo, Carteira de investimentos: (6000.0, 2200.0, 5000.0, 1500.0)\n"
     ]
    }
   ],
   "source": [
    "import investidores\n",
    "\n",
    "def iniciar():\n",
    "    # Mapeando os investidores com perfil\n",
    "    investidores_com_perfil = []\n",
    "    for investidor_com_perfil in investidores.com_perfil:\n",
    "        investidor = Investidor(investidor_com_perfil[0], investidor_com_perfil[1], investidor_com_perfil[2])\n",
    "        investidores_com_perfil.append(investidor)\n",
    "    \n",
    "    \n",
    "    # Mapeando os investidores sem perfil identificando o seu perfil\n",
    "    k = 5\n",
    "    for investidor_sem_perfil in investidores.sem_perfil:\n",
    "        investidor = Investidor(investidor_sem_perfil[0], investidor_sem_perfil[1], investidor_sem_perfil[2])\n",
    "        \n",
    "        investidor.identificar_perfil(investidores_com_perfil, k)\n",
    "        \n",
    "        investidor.imprimir_informacoes()\n",
    "        \n",
    "iniciar()"
   ]
  },
  {
   "cell_type": "code",
   "execution_count": null,
   "id": "9f354e0b",
   "metadata": {},
   "outputs": [],
   "source": []
  }
 ],
 "metadata": {
  "kernelspec": {
   "display_name": "Python 3",
   "language": "python",
   "name": "python3"
  },
  "language_info": {
   "codemirror_mode": {
    "name": "ipython",
    "version": 3
   },
   "file_extension": ".py",
   "mimetype": "text/x-python",
   "name": "python",
   "nbconvert_exporter": "python",
   "pygments_lexer": "ipython3",
   "version": "3.8.8"
  }
 },
 "nbformat": 4,
 "nbformat_minor": 5
}
