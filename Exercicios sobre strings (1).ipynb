{
 "cells": [
  {
   "cell_type": "code",
   "execution_count": null,
   "id": "74e97483",
   "metadata": {},
   "outputs": [],
   "source": [
    "# Strings"
   ]
  },
  {
   "cell_type": "code",
   "execution_count": 8,
   "id": "9a341336",
   "metadata": {
    "collapsed": true
   },
   "outputs": [
    {
     "ename": "SyntaxError",
     "evalue": "invalid syntax (<ipython-input-8-b69a161b47cc>, line 3)",
     "output_type": "error",
     "traceback": [
      "\u001b[1;36m  File \u001b[1;32m\"<ipython-input-8-b69a161b47cc>\"\u001b[1;36m, line \u001b[1;32m3\u001b[0m\n\u001b[1;33m    palavra []\u001b[0m\n\u001b[1;37m             ^\u001b[0m\n\u001b[1;31mSyntaxError\u001b[0m\u001b[1;31m:\u001b[0m invalid syntax\n"
     ]
    }
   ],
   "source": [
    "#Exercício 1:  FEITO Faça um programa que peça para o usuário digitar uma palavra e imprima cada letra em uma linha.\n",
    "\n",
    "palavra []\n",
    "for i in lista:\n",
    "    print(i)\n",
    "    "
   ]
  },
  {
   "cell_type": "code",
   "execution_count": 10,
   "id": "4dcc9466",
   "metadata": {},
   "outputs": [
    {
     "name": "stdout",
     "output_type": "stream",
     "text": [
      "C\n",
      "i\n",
      "e\n",
      "n\n",
      "c\n",
      "i\n",
      "a\n"
     ]
    }
   ],
   "source": [
    "palavra = \"Ciencia\"\n",
    "\n",
    "print(palavra[0])\n",
    "print(palavra[1])\n",
    "print(palavra[2])\n",
    "print(palavra[3])\n",
    "print(palavra[4])\n",
    "print(palavra[5])\n",
    "print(palavra[6])"
   ]
  },
  {
   "cell_type": "markdown",
   "id": "97d83072",
   "metadata": {},
   "source": [
    "Exercicio 2: FEITO\n",
    "Faça um programa que pede para o usuário digitar uma palavra e cria uma nova string igual, copiando letra por letra a palavra digitada, depois imprima a nova string."
   ]
  },
  {
   "cell_type": "code",
   "execution_count": 11,
   "id": "5f7b1f71",
   "metadata": {},
   "outputs": [
    {
     "name": "stdout",
     "output_type": "stream",
     "text": [
      "['p', 'a', 'l', 'a', 'v', 'r', 'a']\n"
     ]
    }
   ],
   "source": [
    "texto = 'palavra'\n",
    "\n",
    "texto = list(texto)\n",
    "print(texto)"
   ]
  },
  {
   "cell_type": "markdown",
   "id": "d22c6562",
   "metadata": {},
   "source": [
    "Exercício 3: FEITO Altere o exercício anterior para que a string copiada alterne entre letras maiúsculas e minúsculas.\n",
    "\n",
    "Exemplo: se o usuário digitar \"latex\" o programa deve imprimir \"LaTeX\"."
   ]
  },
  {
   "cell_type": "code",
   "execution_count": 17,
   "id": "7f6e2b99",
   "metadata": {},
   "outputs": [
    {
     "data": {
      "text/plain": [
       "['p', 'a', 'l', 'a', 'v', 'r', 'a']"
      ]
     },
     "execution_count": 17,
     "metadata": {},
     "output_type": "execute_result"
    }
   ],
   "source": [
    "lista_texto = 'palavra'\n",
    "\n",
    "lista_texto = list(lista_texto)\n",
    "lista_texto\n"
   ]
  },
  {
   "cell_type": "code",
   "execution_count": 27,
   "id": "76a1808b",
   "metadata": {},
   "outputs": [
    {
     "name": "stdout",
     "output_type": "stream",
     "text": [
      "['P', 'a', 'L', 'a', 'V', 'r', 'A']\n"
     ]
    }
   ],
   "source": [
    "lista_texto[6] = 'A'\n",
    "print(lista_texto)\n"
   ]
  },
  {
   "cell_type": "markdown",
   "id": "183dd376",
   "metadata": {},
   "source": [
    "Exercício 4:\n",
    "\n",
    "FALTA FAZER\n",
    "\n",
    "Faça um programa que pede para o usuário digitar uma palavra e cria uma nova string igual, porém com espaço entre cada letra, depois imprima a nova string:\n",
    "\n",
    "Exemplo: se o usuário digitar \"python\" o programa deve imprimir \"p y t h o n \"\n",
    "\n",
    "Resposta"
   ]
  },
  {
   "cell_type": "code",
   "execution_count": 30,
   "id": "fa2c5d25",
   "metadata": {},
   "outputs": [
    {
     "name": "stdout",
     "output_type": "stream",
     "text": [
      "[['t', 'e', 's', 't', 'e'], ['t', 'e', 's', 't', 'e'], ['t', 'e', 's', 't', 'e'], ['t', 'e', 's', 't', 'e'], ['t', 'e', 's', 't', 'e']]\n"
     ]
    }
   ],
   "source": [
    "lista = ['teste', 'teste', 'teste', 'teste', 'teste']\n",
    "\n",
    "matriz = []\n",
    "for palavra in lista:\n",
    "    matriz.append(list(palavra))\n",
    "\n",
    "print(matriz)"
   ]
  },
  {
   "cell_type": "code",
   "execution_count": 32,
   "id": "5841b592",
   "metadata": {},
   "outputs": [
    {
     "name": "stdout",
     "output_type": "stream",
     "text": [
      "teste\n"
     ]
    }
   ],
   "source": [
    "testes = ['teste']\n",
    "testes_separados = []\n",
    "for teste in testes:\n",
    "    testes_separados.append(list(teste))\n",
    "\n",
    "print(teste)"
   ]
  },
  {
   "cell_type": "markdown",
   "id": "252f14fb",
   "metadata": {},
   "source": [
    "Exercício 5: FEITO\n",
    "Faça uma função que receba uma string e retorne uma nova string substituindo:\n",
    "\n",
    "'a' por '4'\n",
    "\n",
    "'e' por '3'\n",
    "\n",
    "'I' por '1'\n",
    "\n",
    "'t' por '7'"
   ]
  },
  {
   "cell_type": "code",
   "execution_count": 29,
   "id": "3eb95b60",
   "metadata": {},
   "outputs": [
    {
     "data": {
      "text/plain": [
       "['4', '3', '1', '7']"
      ]
     },
     "execution_count": 29,
     "metadata": {},
     "output_type": "execute_result"
    }
   ],
   "source": [
    "def String():\n",
    "  lista = ['a' , 'e' , 'I', 't']\n",
    "\n",
    "  lista[0] = '4'\n",
    "  lista[1] = '3'\n",
    "  lista[2] = '1'\n",
    "  lista[3] = '7'\n",
    "\n",
    "  return lista\n",
    "\n",
    "String()"
   ]
  },
  {
   "cell_type": "code",
   "execution_count": null,
   "id": "8770c371",
   "metadata": {},
   "outputs": [],
   "source": [
    "# Exercício 6: FEITO\n",
    "\n",
    "Faça uma função que recebe uma string e retorna ela ao contrário.\n",
    "\n",
    "#Exemplo: Recebe \"teste\" e retorna \"etset\".\n",
    "\n",
    "palavra = \"casa\"[::-1]\n",
    "print(palavra)\n"
   ]
  },
  {
   "cell_type": "code",
   "execution_count": 41,
   "id": "749edf8b",
   "metadata": {},
   "outputs": [
    {
     "name": "stdout",
     "output_type": "stream",
     "text": [
      "eam ad asac\n"
     ]
    }
   ],
   "source": [
    "def inverter(txt):\n",
    "  return txt[::-1]\n",
    "print(inverter('casa da mae'))"
   ]
  },
  {
   "cell_type": "markdown",
   "id": "42504741",
   "metadata": {},
   "source": [
    "\n",
    "#Exercício 7:  FEITO Agora faça uma função que recebe uma palavra e diz se ela é um palíndromo, ou seja, se ela é igual a ela mesma ao contrário.\n",
    "\n",
    "#Dica: Use a função do exercício 6.\n",
    "Não deu certo\n"
   ]
  },
  {
   "cell_type": "code",
   "execution_count": 5,
   "id": "4b0c460f",
   "metadata": {},
   "outputs": [
    {
     "name": "stdout",
     "output_type": "stream",
     "text": [
      "É palíndromo\n"
     ]
    },
    {
     "data": {
      "text/plain": [
       "'ala'"
      ]
     },
     "execution_count": 5,
     "metadata": {},
     "output_type": "execute_result"
    }
   ],
   "source": [
    "def inverter(txt):\n",
    "  return txt[::-1]\n",
    "\n",
    "txt = 'ala'\n",
    "\n",
    "if txt[::-1] == 'ala':\n",
    "    print('É palíndromo')\n",
    "else:\n",
    "    print('Não deu certo')\n",
    "\n",
    "\n",
    "inverter(txt)\n",
    "   "
   ]
  },
  {
   "cell_type": "markdown",
   "id": "fcc70aab",
   "metadata": {},
   "source": [
    "Exercício 8:  FEITO Faça uma função que receba um texto e uma palavra, então verifique se a palavra está no texto, retornando True ou False."
   ]
  },
  {
   "cell_type": "code",
   "execution_count": null,
   "id": "127ee78a",
   "metadata": {},
   "outputs": [],
   "source": [
    "texto =' Aqui está um exemplo de um texto completo'\n",
    "\n",
    "palavra = 'qualquer'\n",
    "\n",
    "if palavra in texto:\n",
    "    print(True)\n",
    "else:\n",
    "    print(False)"
   ]
  },
  {
   "cell_type": "code",
   "execution_count": 7,
   "id": "f3796518",
   "metadata": {},
   "outputs": [
    {
     "name": "stdout",
     "output_type": "stream",
     "text": [
      "True\n"
     ]
    }
   ],
   "source": [
    "texto =' Aqui está um exemplo de um texto completo'\n",
    "\n",
    "palavra = 'exemplo'\n",
    "\n",
    "if palavra in texto:\n",
    "    print(True)\n",
    "else:\n",
    "    print(False)"
   ]
  },
  {
   "cell_type": "markdown",
   "id": "3835964f",
   "metadata": {},
   "source": [
    "Exercício 9:  FEITO Faça uma função que receba uma string que contém tanto números quanto letras e caracteres especiais, e que separe as letras em uma variável e os números em outra (os caracteres especiais podem ser descartados). Ao final a função deve imprimir as duas variáveis."
   ]
  },
  {
   "cell_type": "code",
   "execution_count": 11,
   "id": "f5539722",
   "metadata": {},
   "outputs": [
    {
     "name": "stdout",
     "output_type": "stream",
     "text": [
      "!\n",
      "#\n",
      "Variável que contém só letras:  hjukjopm\n",
      "Variável que contém só números:  44032\n"
     ]
    }
   ],
   "source": [
    "input_string = 'hj4u403k2!jopm#'\n",
    "\n",
    "var_letras = ''\n",
    "var_numeros = ''\n",
    "\n",
    "for item in input_string:\n",
    "    if item.isalpha():   # se o caracter for letra\n",
    "        var_letras = var_letras + item\n",
    "    elif item.isdigit(): # se o caracter for numero/digito\n",
    "        var_numeros = var_numeros + item\n",
    "    else:\n",
    "        # sobram os caracteres\n",
    "        print(item) # mostrar os caracteres que vou eliminar\n",
    "    \n",
    "print('Variável que contém só letras: ', var_letras)\n",
    "print('Variável que contém só números: ', var_numeros)"
   ]
  },
  {
   "cell_type": "markdown",
   "id": "368170cd",
   "metadata": {},
   "source": [
    "Exercício 10:\n",
    "\n",
    "FALTA FAZER ESTE\n",
    "\n",
    "Desafio - Faça uma função que receba uma string e uma letra e:\n",
    "\n",
    "a. imprima quantas vezes a letra aparece na string;\n",
    "\n",
    "b. imprima todas as posições em que a letra aparece na string;\n",
    "\n",
    "c. retorne a distância entre a primeira e a última aparição dessa letra na string.\n",
    "\n",
    "Resposta\n",
    "Deixar em branco\n"
   ]
  },
  {
   "cell_type": "markdown",
   "id": "99753a60",
   "metadata": {},
   "source": [
    "Exercício 11:\n",
    "\n",
    "FALTA FAZER ESTE:\n",
    "\n",
    "Super Desafio! - faça uma função que criptografa uma mensagem substituindo cada letra pela letra oposta do dicionário:\n",
    "\n",
    "'a' por 'z'\n",
    "\n",
    "'b' por 'y'\n",
    "\n",
    "'c' por 'x'\n",
    "\n",
    "..."
   ]
  },
  {
   "cell_type": "code",
   "execution_count": null,
   "id": "c101f345",
   "metadata": {},
   "outputs": [],
   "source": []
  }
 ],
 "metadata": {
  "kernelspec": {
   "display_name": "Python 3",
   "language": "python",
   "name": "python3"
  },
  "language_info": {
   "codemirror_mode": {
    "name": "ipython",
    "version": 3
   },
   "file_extension": ".py",
   "mimetype": "text/x-python",
   "name": "python",
   "nbconvert_exporter": "python",
   "pygments_lexer": "ipython3",
   "version": "3.8.8"
  }
 },
 "nbformat": 4,
 "nbformat_minor": 5
}
